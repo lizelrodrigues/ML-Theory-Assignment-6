{
 "cells": [
  {
   "cell_type": "code",
   "execution_count": null,
   "id": "ee1db97c",
   "metadata": {},
   "outputs": [],
   "source": [
    "# ML Theory Assignment 6"
   ]
  },
  {
   "cell_type": "markdown",
   "id": "f9f12da6",
   "metadata": {},
   "source": [
    "1.In the sense of machine learning, what is a model? What is the best way to train a model?"
   ]
  },
  {
   "cell_type": "code",
   "execution_count": null,
   "id": "15979bb3",
   "metadata": {},
   "outputs": [],
   "source": [
    "# A model represents what was learned by a machine learning algorithm. The model is the “thing” that is saved after\n",
    "# running a machine learning algorithm on training data and represents the rules, numbers, and any other algorithm-\n",
    "# specific data structures required to make predictions."
   ]
  },
  {
   "cell_type": "markdown",
   "id": "e3e42209",
   "metadata": {},
   "source": [
    "2.In the sense of machine learning, explain the \"No Free Lunch\" theorem."
   ]
  },
  {
   "cell_type": "code",
   "execution_count": null,
   "id": "d4b6c1fe",
   "metadata": {},
   "outputs": [],
   "source": [
    "# The No Free Lunch Theorem (NFLT) is named after the phrase, there ain't no such thing as a free lunch.\n",
    "# In the “no free lunch” metaphor, each “restaurant” (problem-solving procedure) has a “menu” associating each \n",
    "# “lunch plate” (problem) with a “price” (the performance of the procedure in solving the problem)."
   ]
  },
  {
   "cell_type": "markdown",
   "id": "9476b087",
   "metadata": {},
   "source": [
    "3.Describe the K-fold cross-validation mechanism in detail."
   ]
  },
  {
   "cell_type": "code",
   "execution_count": null,
   "id": "832d3ac0",
   "metadata": {},
   "outputs": [],
   "source": [
    "# Cross-validation is a resampling procedure used to evaluate machine learning models on a limited data sample.\n",
    "# The procedure has a single parameter called k that refers to the number of groups that a given data sample is to\n",
    "# be split into. Take the group as a hold out or test data set.\n",
    "# When a specific value for k is chosen, it may be used in place of k in the reference to the model, such as k=10 becoming \n",
    "# 10-fold cross-validation."
   ]
  },
  {
   "cell_type": "markdown",
   "id": "0f51e73b",
   "metadata": {},
   "source": [
    "4.Describe the bootstrap sampling method. What is the aim of it?"
   ]
  },
  {
   "cell_type": "code",
   "execution_count": null,
   "id": "156594d7",
   "metadata": {},
   "outputs": [],
   "source": [
    "# Bootstrapping is a statistical procedure that resamples a single dataset to create many simulated samples. \n",
    "# This process allows you to calculate standard errors, construct confidence intervals, and perform hypothesis \n",
    "# testing for numerous types of sample statistics."
   ]
  },
  {
   "cell_type": "markdown",
   "id": "bae13632",
   "metadata": {},
   "source": [
    "5.What is the significance of calculating the Kappa value for a classification model? Demonstrate\n",
    "how to measure the Kappa value of a classification model using a sample collection of results."
   ]
  },
  {
   "cell_type": "code",
   "execution_count": null,
   "id": "8976a88d",
   "metadata": {},
   "outputs": [],
   "source": [
    "# It basically tells you how much better your classifier is performing over the performance of a classifier that \n",
    "# simply guesses at random according to the frequency of each class. Cohen's kappa is always less than or equal to 1.\n",
    "# Values of 0 or less, indicate that the classifier is useless."
   ]
  },
  {
   "cell_type": "markdown",
   "id": "7205e0bb",
   "metadata": {},
   "source": [
    "6.Describe the model ensemble method. In machine learning, what part does it play?"
   ]
  },
  {
   "cell_type": "code",
   "execution_count": null,
   "id": "27d8622b",
   "metadata": {},
   "outputs": [],
   "source": [
    "# Ensemble method is a machine learning technique that combines several base models in order to produce one\n",
    "# optimal predictive model . To better understand this definition lets take a step back into ultimate goal of\n",
    "# machine learning and model building."
   ]
  },
  {
   "cell_type": "markdown",
   "id": "99b14976",
   "metadata": {},
   "source": [
    "7.What is a descriptive model's main purpose? Give examples of real-world problems that\n",
    "descriptive models were used to solve."
   ]
  },
  {
   "cell_type": "code",
   "execution_count": null,
   "id": "7cac4a44",
   "metadata": {},
   "outputs": [],
   "source": [
    "# Descriptive modeling is a mathematical process that describes real-world events and the relationships between \n",
    "# factors responsible for them. The process is used by consumer-driven organizations to help them target their \n",
    "# marketing and advertising efforts."
   ]
  },
  {
   "cell_type": "markdown",
   "id": "d727db6f",
   "metadata": {},
   "source": [
    "8.Describe how to evaluate a linear regression model."
   ]
  },
  {
   "cell_type": "code",
   "execution_count": null,
   "id": "81b02e10",
   "metadata": {},
   "outputs": [],
   "source": [
    "# R Square/Adjusted R Square.\n",
    "# Mean Square Error(MSE)/Root Mean Square Error(RMSE)\n",
    "# Mean Absolute Error(MAE)"
   ]
  },
  {
   "cell_type": "markdown",
   "id": "5567dffc",
   "metadata": {},
   "source": [
    "9.Distinguish :\n",
    "1)Descriptive vs. predictive models\n",
    "2)Underfitting vs. overfitting the model\n",
    "3)Bootstrapping vs. cross-validation"
   ]
  },
  {
   "cell_type": "code",
   "execution_count": null,
   "id": "40383c74",
   "metadata": {},
   "outputs": [],
   "source": [
    "#1\n",
    "# A descriptive model will exploit the past data that are stored in databases and provide you with the accurate \n",
    "# report. In a Predictive model, it identifies patterns found in past and transactional data to find risks and \n",
    "# future outcomes.\n",
    "\n",
    "#2\n",
    "# Your model is underfitting the training data when the model performs poorly on the training data. Your model is \n",
    "# overfitting your training data when you see that the model performs well on the training data but does not\n",
    "# perform well on the evaluation data.\n",
    "\n",
    "#3\n",
    "# Cross validation splits the available dataset to create multiple datasets, and Bootstrapping method uses the \n",
    "# original dataset to create multiple datasets after resampling with replacement."
   ]
  },
  {
   "cell_type": "markdown",
   "id": "814db6e4",
   "metadata": {},
   "source": [
    "10.Make quick notes on:\n",
    "1)LOOCV.\n",
    "2)F-measurement\n",
    "3)The width of the silhouette\n",
    "4)Receiver operating characteristic curve"
   ]
  },
  {
   "cell_type": "code",
   "execution_count": null,
   "id": "7c4f6f9d",
   "metadata": {},
   "outputs": [],
   "source": [
    "#1\n",
    "# The Leave-One-Out Cross-Validation, or LOOCV, procedure is used to estimate the performance of machine learning \n",
    "# algorithms when they are used to make predictions on data not used to train the model.\n",
    "\n",
    "#2\n",
    "# Fbeta-measure is a configurable single-score metric for evaluating a binary classification model based on the \n",
    "# predictions made for the positive class. The Fbeta-measure is calculated using precision and recall. Precision\n",
    "# is a metric that calculates the percentage of correct predictions for the positive class.\n",
    "\n",
    "#3\n",
    "# Silhouette width (SW) of a cell i is the distance of cell i from all of the cells within the same cluster \n",
    "# subtracted by the distance of cell i from cells in a nearest but different cluster, normalized by the maximum \n",
    "# of these two values.\n",
    "\n",
    "#4\n",
    "# A receiver operating characteristic curve, or ROC curve, is a graphical plot that illustrates the diagnostic ability of a \n",
    "# binary classifier system as its discrimination threshold is varied."
   ]
  }
 ],
 "metadata": {
  "kernelspec": {
   "display_name": "Python 3 (ipykernel)",
   "language": "python",
   "name": "python3"
  },
  "language_info": {
   "codemirror_mode": {
    "name": "ipython",
    "version": 3
   },
   "file_extension": ".py",
   "mimetype": "text/x-python",
   "name": "python",
   "nbconvert_exporter": "python",
   "pygments_lexer": "ipython3",
   "version": "3.9.7"
  }
 },
 "nbformat": 4,
 "nbformat_minor": 5
}
